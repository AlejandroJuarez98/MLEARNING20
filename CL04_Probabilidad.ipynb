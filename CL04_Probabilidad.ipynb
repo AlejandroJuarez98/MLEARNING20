{
  "nbformat": 4,
  "nbformat_minor": 0,
  "metadata": {
    "colab": {
      "name": "CL04-Probabilidad.ipynb",
      "provenance": [],
      "collapsed_sections": [],
      "authorship_tag": "ABX9TyMDxeTfDMp41SA99RhfNlmF",
      "include_colab_link": true
    },
    "kernelspec": {
      "name": "python3",
      "display_name": "Python 3"
    }
  },
  "cells": [
    {
      "cell_type": "markdown",
      "metadata": {
        "id": "view-in-github",
        "colab_type": "text"
      },
      "source": [
        "<a href=\"https://colab.research.google.com/github/AlejandroJuarez98/MLEARNING20/blob/master/CL04_Probabilidad.ipynb\" target=\"_parent\"><img src=\"https://colab.research.google.com/assets/colab-badge.svg\" alt=\"Open In Colab\"/></a>"
      ]
    },
    {
      "cell_type": "markdown",
      "metadata": {
        "id": "NaDTTgOStwuf"
      },
      "source": [
        "##**Probabilidad**\n",
        "\n",
        "- La probabilidad de que un suceso \"A\" pase es P(A) = No. casos favorables / casos posibles."
      ]
    },
    {
      "cell_type": "code",
      "metadata": {
        "colab": {
          "base_uri": "https://localhost:8080/"
        },
        "id": "TDfDEI6zwpWw",
        "outputId": "a610720f-e1b5-4106-d2c7-0831ccfea590"
      },
      "source": [
        "# Ejemplo\n",
        "''' Si tiramos un dado cual es la probabilidad de que caiga 2 '''\n",
        "# Espacio muestral: todos los posibles casos\n",
        "E = [1,2,3,4,5,6]\n",
        "# Suceso --> sacar un 2, entonces P(A) = 1 / E\n",
        "PA = 1 / len(E)\n",
        "print(E) # Numero de casos: 6, probabilidad de que caiga 2: 1\n",
        "print(PA)"
      ],
      "execution_count": null,
      "outputs": [
        {
          "output_type": "stream",
          "text": [
            "[1, 2, 3, 4, 5, 6]\n",
            "0.16666666666666666\n"
          ],
          "name": "stdout"
        }
      ]
    },
    {
      "cell_type": "code",
      "metadata": {
        "colab": {
          "base_uri": "https://localhost:8080/"
        },
        "id": "Z-7_pVOtx4Yv",
        "outputId": "552911f3-5938-4c8d-8e1a-134222894b4d"
      },
      "source": [
        "# Experimento 2\n",
        "''' Tiramos 2 monedas '''\n",
        "# En nuestro espacio muestral tenemos los casos posibles de las monedas, moneda1-moneda2\n",
        "E = ['cara-cara', 'cara-corona', 'corona-cara', 'corona-corona']\n",
        "''' Cual es la probabilidad de que caiga almenos 1 cara? '''\n",
        "probabilidad = 3 / len(E)\n",
        "\n",
        "print(probabilidad)\n",
        "print(int(probabilidad * 100), '%')"
      ],
      "execution_count": null,
      "outputs": [
        {
          "output_type": "stream",
          "text": [
            "0.75\n",
            "75 %\n"
          ],
          "name": "stdout"
        }
      ]
    },
    {
      "cell_type": "markdown",
      "metadata": {
        "id": "_8LfsHTNzxIU"
      },
      "source": [
        "## **Axiomas de probabilidad.**\n",
        "\n",
        "> - Una probabilidad siempre es positiva y se encuentra entre los valores 0 y 1:\n",
        ">> $0 \\le P(A) \\le 1$\n",
        "\n",
        "> - La probabilidad de un suceso seguro es 1.\n",
        ">> $P(E) = 1$\n",
        "\n",
        "> - Si A y B son expluyentes, es decir $A \\cap B$ = $\\emptyset$:\n",
        ">> P(A $ \\cup $ B) = P(A) + P(B)\n",
        "\n",
        "## **Probabilidades.**\n",
        "> - La sumatoria de un suceso y un suceso contrario es igual a 1, entonces la probabilidad de un suceso contrario es:\n",
        ">> P(Ac) = 1 - P(A)\n",
        "> - La probabilidad de un suceso imposible es cero.\n",
        ">> P($\\emptyset$) = 0\n",
        "> - La probabilidad de la unión de dos sucesos A o B es la suma de sus probabilidades menos la probabilidad de su intersección.\n",
        ">> P(A $\\cup$ B) = P(A) + P(B) - P(A $\\cap$ B)\n",
        "> - La probabilidad de la intersección de A y B es la suma de sus probabilidades menos la probabilidad de su intersección.\n",
        ">> P(A $\\cup$ B) = P(A) + P(B) - P(A $\\cap$ B)\n",
        "> - La probabilidad de la intersección de A y B es la probabilidad de A por la probabilidad de B. Solo cuando los sucesos son independientes.\n",
        ">> P(A $\\cap$ B) = P(A) * P(B)\n",
        "> - Si la probabilidad de un suceso A cambia cuando se sabe si un suceso B ha ocurrido se llama probabilidad condicionada.\n",
        ">> P(A/B) = P(A $\\cup$ B) / P(B)\n"
      ]
    },
    {
      "cell_type": "code",
      "metadata": {
        "colab": {
          "base_uri": "https://localhost:8080/"
        },
        "id": "gwz0rONiAiOM",
        "outputId": "1b786cc6-beb3-455d-e596-c05e7ba11644"
      },
      "source": [
        "# Ejemplo 3\n",
        "''' Cual es la probabilidad que al tirar un dado salga un numero par '''\n",
        "E = [1,2,3,4,5,6]\n",
        "A = [2,4,6] # Pares\n",
        "B = [1,3,5] # Impares\n",
        "\n",
        "PA = len(A) / len(E)\n",
        "print(f'Probabilidad de que un numero sea par {PA*100}%')\n",
        "\n",
        "#Cual es la probabilidad de que NO sea un numero par\n",
        "#El complemento de P(A) seia P(Ac) = 1 - P(A)\n",
        "PAc = 1 - PA\n",
        "print (f'Probabilidad de que un numero sea impar {PAc*100}%')"
      ],
      "execution_count": null,
      "outputs": [
        {
          "output_type": "stream",
          "text": [
            "Probabilidad de que un numero sea par 50.0%\n",
            "Probabilidad de que un numero sea impar 50.0%\n"
          ],
          "name": "stdout"
        }
      ]
    },
    {
      "cell_type": "markdown",
      "metadata": {
        "id": "1O2Sp-dqBj6i"
      },
      "source": [
        "##**Probabilidad condicionada.**"
      ]
    },
    {
      "cell_type": "code",
      "metadata": {
        "colab": {
          "base_uri": "https://localhost:8080/"
        },
        "id": "cln6e_yeBpOr",
        "outputId": "dd783d78-9575-429a-eea7-f7943599b779"
      },
      "source": [
        "# Ejemplo 4\n",
        "''' Cual es la probabilidad de obtener un 3 al tirar un dado si sabemos que ha salido un número impar '''\n",
        "E = [1,2,3,4,5,6]\n",
        "\n",
        "A = [3]\n",
        "B = [1,3,5]\n",
        "\n",
        "PA = len(A) / len(E) # Probabilidad de obtener un número 3\n",
        "PB = len(B) / len(E) # Probabilidad de obtener un número impar\n",
        "\n",
        "print(f'La probabilidad de obtener un número impar al lanzar el dado es: {PB*100}%')\n",
        "print(f'La probabilidad de obtener un 3 al lanzar el dado es: {PA*100}%')\n",
        "\n",
        "# Calculo de la probabilidad condicional\n",
        "PAyB_B = PA / PB\n",
        "print(f'La probabilidad de obtener un 3 sabiendo que salio un impar es {PAyB_B*100}%')"
      ],
      "execution_count": 8,
      "outputs": [
        {
          "output_type": "stream",
          "text": [
            "La probabilidad de obtener un número impar al lanzar el dado es: 50.0%\n",
            "La probabilidad de obtener un 3 al lanzar el dado es: 16.666666666666664%\n",
            "La probabilidad de obtener un 3 sabiendo que salio un impar es 33.33333333333333%\n"
          ],
          "name": "stdout"
        }
      ]
    }
  ]
}