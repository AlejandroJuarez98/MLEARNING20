{
  "nbformat": 4,
  "nbformat_minor": 0,
  "metadata": {
    "colab": {
      "name": "TAREA01-JOSE-ALEJANDRO-JUAREZ-FLORES.ipynb",
      "provenance": [],
      "include_colab_link": true
    },
    "kernelspec": {
      "name": "python3",
      "display_name": "Python 3"
    }
  },
  "cells": [
    {
      "cell_type": "markdown",
      "metadata": {
        "id": "view-in-github",
        "colab_type": "text"
      },
      "source": [
        "<a href=\"https://colab.research.google.com/github/AlejandroJuarez98/MLEARNING20/blob/master/TAREA01_JOSE_ALEJANDRO_JUAREZ_FLORES.ipynb\" target=\"_parent\"><img src=\"https://colab.research.google.com/assets/colab-badge.svg\" alt=\"Open In Colab\"/></a>"
      ]
    },
    {
      "cell_type": "markdown",
      "metadata": {
        "id": "CdOBiARowr9p"
      },
      "source": [
        "#**EJERCICIO 1: CALCULADORA**"
      ]
    },
    {
      "cell_type": "markdown",
      "metadata": {
        "id": "adTrVsKWxFTF"
      },
      "source": [
        "Indicaciones: Crear una clase \"calculadora\" que realice los procedimientos de suma, resta, multiplicación , división, potencia y módulo entre dos variables numéricas. Ponderación del ejercicio 50%."
      ]
    },
    {
      "cell_type": "code",
      "metadata": {
        "id": "iik2tmN9ytAo",
        "colab": {
          "base_uri": "https://localhost:8080/"
        },
        "outputId": "49225662-ad23-44c0-8972-f630555c755b"
      },
      "source": [
        "#Realizar TODO el ejercicio en esta celda.\n",
        "\n",
        "class Calculadora:\n",
        "    def __init__(self, a, b):\n",
        "      super(Calculadora, self).__init__()\n",
        "\n",
        "      self.a = a\n",
        "      self.b = b\n",
        "\n",
        "    def setA (self, a):\n",
        "      self.a = a\n",
        "\n",
        "    def setB (self, b):\n",
        "      self.b = b\n",
        "\n",
        "    def suma (self):\n",
        "      return self.a + self.b\n",
        "    \n",
        "    def resta (self):\n",
        "      return self.a - self.b\n",
        "    \n",
        "    def multiplicacion (self):\n",
        "      return self.a * self.b\n",
        "\n",
        "    def division (self):\n",
        "      if (self.b > 0):\n",
        "        return self.a / self.b    \n",
        "      else: \n",
        "        return None\n",
        "\n",
        "calc = Calculadora(5, 4)\n",
        "print(calc.suma())\n",
        "print(calc.resta())\n",
        "print(calc.multiplicacion())\n",
        "print(calc.division())\n",
        "      \n",
        "\n"
      ],
      "execution_count": null,
      "outputs": [
        {
          "output_type": "stream",
          "text": [
            "9\n",
            "1.0\n",
            "20\n",
            "1.25\n"
          ],
          "name": "stdout"
        }
      ]
    },
    {
      "cell_type": "markdown",
      "metadata": {
        "id": "33uo3AEgy4Th"
      },
      "source": [
        "#**EJERCICIO 2: CONVERSIÓN DE CELSIUS A FAHRENHEIT**"
      ]
    },
    {
      "cell_type": "markdown",
      "metadata": {
        "id": "Nai_4yEGz8N9"
      },
      "source": [
        "Indicaciones: Realizar una función que convierta de grados Celsius a grados Fahrenheit. Realizar una iteración sobre la lista \"celsius\" que se proporciona y almacenar cada uno de los resultados en la lista \"fahrenheit\". La celda debe imprimir la lista *fahrenheit* con los resultados de la conversión. Ponderación del ejercicio 50%."
      ]
    },
    {
      "cell_type": "code",
      "metadata": {
        "id": "EWLqVLai1GNo",
        "colab": {
          "base_uri": "https://localhost:8080/"
        },
        "outputId": "e8d8626f-91fd-44be-a93a-66a5d10d1fc3"
      },
      "source": [
        "#Realizar el ejercicio completo en esta celda. Trabajar sobre las listas proporcionadas\n",
        "def convert (item):\n",
        "    f = (item * (9/5)) + 32\n",
        "    return f\n",
        "\n",
        "def conversor (list):\n",
        "    fah = []\n",
        "    for x in list:\n",
        "      fah.append(format(convert(float(x)), '.2f'))\n",
        "    \n",
        "    return fah\n",
        "\n",
        "\n",
        "celsius = ['32.5', '40.7', '23.0', '44.0', '15.9', '33.8', '45.6', '67.0', '70.4']\n",
        "fahrenheit = conversor(celsius)\n",
        "\n",
        "print(celsius)\n",
        "print(fahrenheit)"
      ],
      "execution_count": null,
      "outputs": [
        {
          "output_type": "stream",
          "text": [
            "['32.5', '40.7', '23.0', '44.0', '15.9', '33.8', '45.6', '67.0', '70.4']\n",
            "['90.50', '105.26', '73.40', '111.20', '60.62', '92.84', '114.08', '152.60', '158.72']\n"
          ],
          "name": "stdout"
        }
      ]
    }
  ]
}