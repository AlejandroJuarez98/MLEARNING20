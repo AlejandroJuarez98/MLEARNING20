{
  "nbformat": 4,
  "nbformat_minor": 0,
  "metadata": {
    "colab": {
      "name": "CL02-CLASES.ipynb",
      "provenance": [],
      "authorship_tag": "ABX9TyOQ1v/9N9XMk5yWHdpulCcn",
      "include_colab_link": true
    },
    "kernelspec": {
      "name": "python3",
      "display_name": "Python 3"
    }
  },
  "cells": [
    {
      "cell_type": "markdown",
      "metadata": {
        "id": "view-in-github",
        "colab_type": "text"
      },
      "source": [
        "<a href=\"https://colab.research.google.com/github/AlejandroJuarez98/MLEARNING20/blob/master/CL02_CLASES.ipynb\" target=\"_parent\"><img src=\"https://colab.research.google.com/assets/colab-badge.svg\" alt=\"Open In Colab\"/></a>"
      ]
    },
    {
      "cell_type": "markdown",
      "metadata": {
        "id": "ehRprpn0ggNw"
      },
      "source": [
        "##**Clases.**\n",
        ">Es una plantilla para la creación de objetos de datos según un modelo predefinido. Las clases se utilizan para representar entidades o conceptos, como los sustantivos en el lenguaje."
      ]
    },
    {
      "cell_type": "code",
      "metadata": {
        "colab": {
          "base_uri": "https://localhost:8080/"
        },
        "id": "dfjGd3qSheOY",
        "outputId": "f270171b-ae78-4fbd-c061-f6853a470955"
      },
      "source": [
        "class Carro:\n",
        "  def __init__(self, marca, puertas):\n",
        "    super(Carro, self).__init__()\n",
        "\n",
        "    self.marca = marca\n",
        "    self.puertas = puertas\n",
        "\n",
        "  def Marca (self):\n",
        "    return self.marca\n",
        "  \n",
        "  def Puerta (self):\n",
        "    return self.puertas\n",
        "\n",
        "carro_1 = Carro(\"Toyota\", 4)\n",
        "carro_2 = Carro(\"Isuzu\", 4)\n",
        "\n",
        "print(type(carro_1))\n",
        "print(type(carro_2))\n",
        "\n",
        "print(\"****** MARCAS ******\")\n",
        "print(\"Carro: \" + str(carro_1.Marca()) + \", Puertas: \" + str(carro_1.Puerta()))\n",
        "print(\"Carro: \" + str(carro_2.Marca()) + \", Puertas: \" + str(carro_2.Puerta()))"
      ],
      "execution_count": 8,
      "outputs": [
        {
          "output_type": "stream",
          "text": [
            "<class '__main__.Carro'>\n",
            "<class '__main__.Carro'>\n",
            "****** MARCAS ******\n",
            "Carro: Toyota, Puertas: 4\n",
            "Carro: Isuzu, Puertas: 4\n"
          ],
          "name": "stdout"
        }
      ]
    }
  ]
}