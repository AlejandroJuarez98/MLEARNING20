{
  "nbformat": 4,
  "nbformat_minor": 0,
  "metadata": {
    "colab": {
      "name": "CL01.ipynb",
      "provenance": [],
      "collapsed_sections": [],
      "authorship_tag": "ABX9TyPJfRxojMM8L4k6l2EsrKag",
      "include_colab_link": true
    },
    "kernelspec": {
      "name": "python3",
      "display_name": "Python 3"
    }
  },
  "cells": [
    {
      "cell_type": "markdown",
      "metadata": {
        "id": "view-in-github",
        "colab_type": "text"
      },
      "source": [
        "<a href=\"https://colab.research.google.com/github/AlejandroJuarez98/MLEARNING20/blob/master/CL01.ipynb\" target=\"_parent\"><img src=\"https://colab.research.google.com/assets/colab-badge.svg\" alt=\"Open In Colab\"/></a>"
      ]
    },
    {
      "cell_type": "markdown",
      "metadata": {
        "id": "qvmVGNzPOl2e"
      },
      "source": [
        "#Variables\n",
        "> **Tipos de variable:**\n",
        "\n"
      ]
    },
    {
      "cell_type": "code",
      "metadata": {
        "colab": {
          "base_uri": "https://localhost:8080/"
        },
        "id": "2xlmZIXvPDLv",
        "outputId": "e9965324-d89d-4744-8a41-09eda4358b5a"
      },
      "source": [
        "# Variables y sus tipos #\n",
        "\n",
        "\"\"\"\n",
        "  Como nombrar variables:\n",
        "      variable\n",
        "      _variable\n",
        "      variable_\n",
        "      ... etc\n",
        "\"\"\"\n",
        "\n",
        "variable = \"Hola\"\n",
        "print(variable)"
      ],
      "execution_count": 3,
      "outputs": [
        {
          "output_type": "stream",
          "text": [
            "Hola\n"
          ],
          "name": "stdout"
        }
      ]
    },
    {
      "cell_type": "code",
      "metadata": {
        "colab": {
          "base_uri": "https://localhost:8080/"
        },
        "id": "jIuNyzKAP8gm",
        "outputId": "12868e1d-bdb7-423b-a1a4-c29d49ada4de"
      },
      "source": [
        "# Variables de tipo constante #\n",
        "pi = 3.1416\n",
        "PI = 3.1416\n",
        "\n",
        "# Variable #\n",
        "numero = 4\n",
        "cadena = \"Hola mundo\"\n",
        "bandera = True\n",
        "\n",
        "print(numero)\n",
        "print(cadena)\n",
        "print(bandera)"
      ],
      "execution_count": 12,
      "outputs": [
        {
          "output_type": "stream",
          "text": [
            "4\n",
            "Hola mundo\n",
            "True\n"
          ],
          "name": "stdout"
        }
      ]
    },
    {
      "cell_type": "code",
      "metadata": {
        "colab": {
          "base_uri": "https://localhost:8080/"
        },
        "id": "iKbrqKJqQIna",
        "outputId": "8b325eb6-811c-498e-98c5-a0eba93f02fa"
      },
      "source": [
        "# Variables numéricas\n",
        "print(type(numero))\n",
        "# Variables cadenas\n",
        "print(type(cadena))\n",
        "# Variables banderas\n",
        "print(type(bandera))"
      ],
      "execution_count": 13,
      "outputs": [
        {
          "output_type": "stream",
          "text": [
            "<class 'int'>\n",
            "<class 'str'>\n",
            "<class 'bool'>\n"
          ],
          "name": "stdout"
        }
      ]
    }
  ]
}