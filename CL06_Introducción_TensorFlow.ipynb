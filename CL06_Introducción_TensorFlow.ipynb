{
  "nbformat": 4,
  "nbformat_minor": 0,
  "metadata": {
    "colab": {
      "name": "CL06-Introducción-TensorFlow.ipynb",
      "provenance": [],
      "authorship_tag": "ABX9TyPMYFQmAJc8S5Vgwq1Z8BN3",
      "include_colab_link": true
    },
    "kernelspec": {
      "name": "python3",
      "display_name": "Python 3"
    }
  },
  "cells": [
    {
      "cell_type": "markdown",
      "metadata": {
        "id": "view-in-github",
        "colab_type": "text"
      },
      "source": [
        "<a href=\"https://colab.research.google.com/github/AlejandroJuarez98/MLEARNING20/blob/master/CL06_Introducci%C3%B3n_TensorFlow.ipynb\" target=\"_parent\"><img src=\"https://colab.research.google.com/assets/colab-badge.svg\" alt=\"Open In Colab\"/></a>"
      ]
    },
    {
      "cell_type": "markdown",
      "metadata": {
        "id": "qdJqnhZAMRLm"
      },
      "source": [
        "##**Introducción a TensorFlow**\r\n",
        "> - TensorFlow es un marco de trabajo que contiene un conjunto de herramientas, reglas y patrones  que tiene el objetivo de facilitar la programación de algoritmos de deep learning. Su importancia:\r\n",
        ">> - **Inclusión de AI.**\r\n",
        ">> - **Abstracción de algoritmos complejos.**\r\n",
        "\r\n",
        "**Módulos comunes en TensorFlow:**\r\n",
        "> - **tf:** Funciones que facilitan las operaciones aritméticas, por ejemplo: **tf.abs, tf.add, tf.concat.**\r\n",
        "> - **tf.error:** Errores de TF\r\n",
        "> - **tf.data:** Funciones que implementan datasets\r\n",
        "> - **tf.distributions:** Este módulo sirve para implementar funciones estadisticas.\r\n",
        "> - **tf.io.gfile:** Implementa operaciones en archivos\r\n",
        "> - **tf.image:** Implementa operaciones en imagines\r\n",
        "> - **tf.keras:** Implementa las herramientas de Keras, para operaciones en redes neuronales.\r\n",
        "\r\n",
        "**Conceptos:**\r\n",
        "> - Tensor: Arreglo multidimensional.\r\n",
        "> - Se compone de rangos. Ejemplo: tensor rango 0 (Escalar), Tensor rango 1 (1 dimensión), Tensor rango N (N dimensión).\r\n",
        "\r\n"
      ]
    },
    {
      "cell_type": "markdown",
      "metadata": {
        "id": "onmfdhAJee-u"
      },
      "source": [
        "- **Tensores constantes:**\r\n",
        "```\r\n",
        "  > - tf.constant ()\r\n",
        "  > - tf.zeros ()\r\n",
        "  > - tf.ones ()\r\n",
        "  > - tf.fill ()\r\n",
        "  > - tf.random ()\r\n",
        "```"
      ]
    },
    {
      "cell_type": "code",
      "metadata": {
        "id": "23dd6t-jfCzB",
        "colab": {
          "base_uri": "https://localhost:8080/"
        },
        "outputId": "6b068cb0-3df7-41c1-c9ba-a86decc70613"
      },
      "source": [
        "import tensorflow as tf\r\n",
        "\r\n",
        "const_vector = tf.constant([[1,2,3,4]], shape=[2,2])\r\n",
        "const_vector"
      ],
      "execution_count": 1,
      "outputs": [
        {
          "output_type": "execute_result",
          "data": {
            "text/plain": [
              "<tf.Tensor: shape=(2, 2), dtype=int32, numpy=\n",
              "array([[1, 2],\n",
              "       [3, 4]], dtype=int32)>"
            ]
          },
          "metadata": {
            "tags": []
          },
          "execution_count": 1
        }
      ]
    },
    {
      "cell_type": "code",
      "metadata": {
        "colab": {
          "base_uri": "https://localhost:8080/"
        },
        "id": "2QtytAoJroVX",
        "outputId": "eb63f0e5-778d-4f2c-e54a-8b510f4c4d06"
      },
      "source": [
        "print('Valor del vector: ', const_vector.numpy())\r\n",
        "print('Tipo de valor: ', const_vector.dtype)\r\n",
        "print('Dimensiones del vector constante: ', const_vector.shape)"
      ],
      "execution_count": 6,
      "outputs": [
        {
          "output_type": "stream",
          "text": [
            "Valor del vector:  [[1 2]\n",
            " [3 4]]\n",
            "Tipo de valor:  <dtype: 'int32'>\n",
            "Dimensiones del vector constante:  (2, 2)\n"
          ],
          "name": "stdout"
        }
      ]
    },
    {
      "cell_type": "code",
      "metadata": {
        "colab": {
          "base_uri": "https://localhost:8080/"
        },
        "id": "Ew9DeOllsXla",
        "outputId": "9dc39966-38bf-40ab-d8b7-be38c42e3912"
      },
      "source": [
        "zeros_vector = tf.zeros([4,4], dtype=tf.int32)\r\n",
        "zeros_vector"
      ],
      "execution_count": 9,
      "outputs": [
        {
          "output_type": "execute_result",
          "data": {
            "text/plain": [
              "<tf.Tensor: shape=(4, 4), dtype=int32, numpy=\n",
              "array([[0, 0, 0, 0],\n",
              "       [0, 0, 0, 0],\n",
              "       [0, 0, 0, 0],\n",
              "       [0, 0, 0, 0]], dtype=int32)>"
            ]
          },
          "metadata": {
            "tags": []
          },
          "execution_count": 9
        }
      ]
    },
    {
      "cell_type": "code",
      "metadata": {
        "colab": {
          "base_uri": "https://localhost:8080/"
        },
        "id": "B3by5T3BstBl",
        "outputId": "723d4400-d32f-4d42-8658-4fe9fdc738e7"
      },
      "source": [
        "fill_vector = tf.fill([2,3], 7)\r\n",
        "fill_vector"
      ],
      "execution_count": 14,
      "outputs": [
        {
          "output_type": "execute_result",
          "data": {
            "text/plain": [
              "<tf.Tensor: shape=(2, 3), dtype=int32, numpy=\n",
              "array([[7, 7, 7],\n",
              "       [7, 7, 7]], dtype=int32)>"
            ]
          },
          "metadata": {
            "tags": []
          },
          "execution_count": 14
        }
      ]
    },
    {
      "cell_type": "code",
      "metadata": {
        "colab": {
          "base_uri": "https://localhost:8080/"
        },
        "id": "kkq4QfVCtL6P",
        "outputId": "f2d9a72f-4ed3-4698-aee9-4e85562b7e40"
      },
      "source": [
        "# Utilizando libreía tf.random\r\n",
        "uniform_rvector = tf.random.uniform([5,5])\r\n",
        "print(uniform_rvector, '\\n')\r\n",
        "\r\n",
        "normal_rvector = tf.random.normal([5,5])\r\n",
        "print(normal_rvector, '\\n')"
      ],
      "execution_count": 17,
      "outputs": [
        {
          "output_type": "stream",
          "text": [
            "tf.Tensor(\n",
            "[[0.29061484 0.15357673 0.8518499  0.5153165  0.47954035]\n",
            " [0.7528684  0.09113455 0.66635585 0.47549665 0.751539  ]\n",
            " [0.61270595 0.29651606 0.44187272 0.24423563 0.75914633]\n",
            " [0.5189036  0.5527264  0.75890946 0.19811821 0.35717547]\n",
            " [0.8558171  0.20993602 0.91702485 0.8928088  0.8364612 ]], shape=(5, 5), dtype=float32) \n",
            "\n",
            "tf.Tensor(\n",
            "[[ 1.2192106   1.1893235  -1.247736   -2.0378947   0.30907896]\n",
            " [-1.1091781  -1.0441334  -1.3731692   0.1337953   1.7150176 ]\n",
            " [ 0.87951946 -0.7464225  -0.879393    0.56090695  0.35950705]\n",
            " [-0.6727515  -0.04627789 -0.7344944  -0.30233243 -1.6000489 ]\n",
            " [ 1.9216613   1.167279    1.3410485   2.060293   -0.947742  ]], shape=(5, 5), dtype=float32) \n",
            "\n"
          ],
          "name": "stdout"
        }
      ]
    },
    {
      "cell_type": "code",
      "metadata": {
        "colab": {
          "base_uri": "https://localhost:8080/"
        },
        "id": "1BuDAPwnvznU",
        "outputId": "0053fa82-2e74-447e-fd19-bdc57e9e44a4"
      },
      "source": [
        "# Convertir lista de Python a Tensor\r\n",
        "xlist = [1,2,3,4]\r\n",
        "print (xlist, type(xlist))\r\n",
        "\r\n",
        "xtensorlist = tf.convert_to_tensor(xlist, dtype=tf.int32)\r\n",
        "xtensorlist"
      ],
      "execution_count": 18,
      "outputs": [
        {
          "output_type": "stream",
          "text": [
            "[1, 2, 3, 4] <class 'list'>\n"
          ],
          "name": "stdout"
        },
        {
          "output_type": "execute_result",
          "data": {
            "text/plain": [
              "<tf.Tensor: shape=(4,), dtype=int32, numpy=array([1, 2, 3, 4], dtype=int32)>"
            ]
          },
          "metadata": {
            "tags": []
          },
          "execution_count": 18
        }
      ]
    },
    {
      "cell_type": "code",
      "metadata": {
        "colab": {
          "base_uri": "https://localhost:8080/"
        },
        "id": "7DOiQBsIwWm_",
        "outputId": "eb754d45-909d-4921-8eb1-6398f407e357"
      },
      "source": [
        "# Variables de tipo tensor\r\n",
        "tensor = tf.Variable(tf.ones([2,3]))\r\n",
        "tensor\r\n",
        "\r\n",
        "print('Values: ', tensor.read_value())"
      ],
      "execution_count": 28,
      "outputs": [
        {
          "output_type": "stream",
          "text": [
            "Values:  tf.Tensor(\n",
            "[[1. 1. 1.]\n",
            " [1. 1. 1.]], shape=(2, 3), dtype=float32)\n"
          ],
          "name": "stdout"
        }
      ]
    },
    {
      "cell_type": "code",
      "metadata": {
        "colab": {
          "base_uri": "https://localhost:8080/"
        },
        "id": "N2X5HeG8xkkd",
        "outputId": "724f58b5-6965-4680-9f85-514ac6ae8239"
      },
      "source": [
        "tensor.assign([[1,3,4], [7,4,3]])"
      ],
      "execution_count": 29,
      "outputs": [
        {
          "output_type": "execute_result",
          "data": {
            "text/plain": [
              "<tf.Variable 'UnreadVariable' shape=(2, 3) dtype=float32, numpy=\n",
              "array([[1., 3., 4.],\n",
              "       [7., 4., 3.]], dtype=float32)>"
            ]
          },
          "metadata": {
            "tags": []
          },
          "execution_count": 29
        }
      ]
    },
    {
      "cell_type": "code",
      "metadata": {
        "colab": {
          "base_uri": "https://localhost:8080/"
        },
        "id": "WEvuSdtLx-PN",
        "outputId": "26dcb92c-4481-4fdc-f879-844bf441fb99"
      },
      "source": [
        "print('Valores del tensor: ', tensor)"
      ],
      "execution_count": 30,
      "outputs": [
        {
          "output_type": "stream",
          "text": [
            "Valores del tensor:  <tf.Variable 'Variable:0' shape=(2, 3) dtype=float32, numpy=\n",
            "array([[1., 3., 4.],\n",
            "       [7., 4., 3.]], dtype=float32)>\n"
          ],
          "name": "stdout"
        }
      ]
    },
    {
      "cell_type": "code",
      "metadata": {
        "colab": {
          "base_uri": "https://localhost:8080/"
        },
        "id": "wWagy504yHV3",
        "outputId": "a98f4ee7-9bcd-451e-b2a1-c29c32ff0ed5"
      },
      "source": [
        "tensore = tf.random.normal([2,2,3,4])\r\n",
        "tensore"
      ],
      "execution_count": 35,
      "outputs": [
        {
          "output_type": "execute_result",
          "data": {
            "text/plain": [
              "<tf.Tensor: shape=(2, 2, 3, 4), dtype=float32, numpy=\n",
              "array([[[[-1.015642  ,  0.15593393, -0.32311997,  0.57467973],\n",
              "         [ 1.1702529 ,  0.75422066,  0.5403055 , -1.0234902 ],\n",
              "         [-0.70500505, -0.91486603,  0.445015  ,  0.29868832]],\n",
              "\n",
              "        [[-1.9918466 , -0.8445442 ,  0.54414207,  0.36607486],\n",
              "         [-0.00991777,  1.1835113 , -0.72201747, -0.21298578],\n",
              "         [ 0.7465507 , -0.12610039, -0.25020644, -0.8431239 ]]],\n",
              "\n",
              "\n",
              "       [[[-0.02284714,  0.42925593, -0.09079198, -0.68230075],\n",
              "         [ 0.7015925 ,  0.646014  , -0.55678326,  0.3860944 ],\n",
              "         [-1.4883856 ,  0.22554728,  0.9340678 ,  0.06113051]],\n",
              "\n",
              "        [[ 0.19820306, -0.00937879, -0.03273406, -0.17055546],\n",
              "         [-0.47408223, -1.4352981 ,  0.44915602,  2.241759  ],\n",
              "         [ 0.8331645 ,  2.7622385 ,  1.1225773 , -0.19420622]]]],\n",
              "      dtype=float32)>"
            ]
          },
          "metadata": {
            "tags": []
          },
          "execution_count": 35
        }
      ]
    },
    {
      "cell_type": "code",
      "metadata": {
        "colab": {
          "base_uri": "https://localhost:8080/"
        },
        "id": "lFg0Yf8wzpZ9",
        "outputId": "7136cfbf-fc64-4b64-ad6e-f4b7cd88bf47"
      },
      "source": [
        "n = tf.constant([[3,4], [3,2]])\r\n",
        "n1 = tf.constant([[1,2],[4,3]])\r\n",
        "\r\n",
        "n1"
      ],
      "execution_count": 38,
      "outputs": [
        {
          "output_type": "execute_result",
          "data": {
            "text/plain": [
              "<tf.Tensor: shape=(2, 2), dtype=int32, numpy=\n",
              "array([[1, 2],\n",
              "       [4, 3]], dtype=int32)>"
            ]
          },
          "metadata": {
            "tags": []
          },
          "execution_count": 38
        }
      ]
    },
    {
      "cell_type": "code",
      "metadata": {
        "colab": {
          "base_uri": "https://localhost:8080/"
        },
        "id": "JtFz7Y_v0DH1",
        "outputId": "1a7a15c4-bf17-4e69-96b2-b68cc7e99d15"
      },
      "source": [
        "tf.add(n, n1)"
      ],
      "execution_count": 39,
      "outputs": [
        {
          "output_type": "execute_result",
          "data": {
            "text/plain": [
              "<tf.Tensor: shape=(2, 2), dtype=int32, numpy=\n",
              "array([[4, 6],\n",
              "       [7, 5]], dtype=int32)>"
            ]
          },
          "metadata": {
            "tags": []
          },
          "execution_count": 39
        }
      ]
    },
    {
      "cell_type": "code",
      "metadata": {
        "colab": {
          "base_uri": "https://localhost:8080/"
        },
        "id": "eZFNn-_Y0TIZ",
        "outputId": "b6c5f56c-73c7-46d2-e52a-15f5f18b93a2"
      },
      "source": [
        "tf.matmul(n, n1)"
      ],
      "execution_count": 42,
      "outputs": [
        {
          "output_type": "execute_result",
          "data": {
            "text/plain": [
              "<tf.Tensor: shape=(2, 2), dtype=int32, numpy=\n",
              "array([[19, 18],\n",
              "       [11, 12]], dtype=int32)>"
            ]
          },
          "metadata": {
            "tags": []
          },
          "execution_count": 42
        }
      ]
    }
  ]
}