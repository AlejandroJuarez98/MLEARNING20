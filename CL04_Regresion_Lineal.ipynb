{
  "nbformat": 4,
  "nbformat_minor": 0,
  "metadata": {
    "colab": {
      "name": "CL04_Regresion_Lineal.ipynb",
      "provenance": [],
      "collapsed_sections": [],
      "authorship_tag": "ABX9TyNdCpmeeDbCl4peddcN/4q6",
      "include_colab_link": true
    },
    "kernelspec": {
      "name": "python3",
      "display_name": "Python 3"
    }
  },
  "cells": [
    {
      "cell_type": "markdown",
      "metadata": {
        "id": "view-in-github",
        "colab_type": "text"
      },
      "source": [
        "<a href=\"https://colab.research.google.com/github/AlejandroJuarez98/MLEARNING20/blob/master/CL04_Regresion_Lineal.ipynb\" target=\"_parent\"><img src=\"https://colab.research.google.com/assets/colab-badge.svg\" alt=\"Open In Colab\"/></a>"
      ]
    },
    {
      "cell_type": "markdown",
      "metadata": {
        "id": "jovfVpy2-m3Y"
      },
      "source": [
        "##**Regresión lineal.**\n",
        "\n",
        "> - Es un modelo que explica la relación entre dos variables (x,y) y se representa con la siguiente formula.\n",
        ">> y = $b_0$ + $b_1$ * x\n",
        ">> - **y**: variable dependiente\n",
        ">> - **x**: variable independiente\n",
        ">> - $b_1$: Coeficiente\n",
        ">> - $b_0$: Constante\n",
        "\n",
        "- **Ejemplo**: Cambio de salario a traves de los años de experiencia. (Entender como afecta la experiencia el salario de las personas)\n",
        ">> - **X**: Experiencia\n",
        ">> - **Y**: Salario ($)\n",
        "\n",
        "- $Salario$ = $b_0$ + $b_1$ * $experiencia$\n"
      ]
    },
    {
      "cell_type": "code",
      "metadata": {
        "colab": {
          "base_uri": "https://localhost:8080/",
          "height": 204
        },
        "id": "8TON5mDNGBUe",
        "outputId": "2c86f789-6ba6-4844-d4b9-7f0bd125d153"
      },
      "source": [
        "import numpy\n",
        "import matplotlib.pyplot as plt\n",
        "import pandas as pd\n",
        "\n",
        "#Importando dataset\n",
        "dataset = pd.read_csv('https://raw.githubusercontent.com/AlejandroJuarez98/MLEARNING20/master/Salary.csv')\n",
        "dataset.columns = dataset.columns.str.lower()\n",
        "dataset.head()"
      ],
      "execution_count": 49,
      "outputs": [
        {
          "output_type": "execute_result",
          "data": {
            "text/html": [
              "<div>\n",
              "<style scoped>\n",
              "    .dataframe tbody tr th:only-of-type {\n",
              "        vertical-align: middle;\n",
              "    }\n",
              "\n",
              "    .dataframe tbody tr th {\n",
              "        vertical-align: top;\n",
              "    }\n",
              "\n",
              "    .dataframe thead th {\n",
              "        text-align: right;\n",
              "    }\n",
              "</style>\n",
              "<table border=\"1\" class=\"dataframe\">\n",
              "  <thead>\n",
              "    <tr style=\"text-align: right;\">\n",
              "      <th></th>\n",
              "      <th>experience</th>\n",
              "      <th>salary</th>\n",
              "    </tr>\n",
              "  </thead>\n",
              "  <tbody>\n",
              "    <tr>\n",
              "      <th>0</th>\n",
              "      <td>1.1</td>\n",
              "      <td>39343</td>\n",
              "    </tr>\n",
              "    <tr>\n",
              "      <th>1</th>\n",
              "      <td>1.3</td>\n",
              "      <td>46205</td>\n",
              "    </tr>\n",
              "    <tr>\n",
              "      <th>2</th>\n",
              "      <td>1.5</td>\n",
              "      <td>37731</td>\n",
              "    </tr>\n",
              "    <tr>\n",
              "      <th>3</th>\n",
              "      <td>2.0</td>\n",
              "      <td>43525</td>\n",
              "    </tr>\n",
              "    <tr>\n",
              "      <th>4</th>\n",
              "      <td>2.2</td>\n",
              "      <td>39891</td>\n",
              "    </tr>\n",
              "  </tbody>\n",
              "</table>\n",
              "</div>"
            ],
            "text/plain": [
              "   experience  salary\n",
              "0         1.1   39343\n",
              "1         1.3   46205\n",
              "2         1.5   37731\n",
              "3         2.0   43525\n",
              "4         2.2   39891"
            ]
          },
          "metadata": {
            "tags": []
          },
          "execution_count": 49
        }
      ]
    },
    {
      "cell_type": "code",
      "metadata": {
        "colab": {
          "base_uri": "https://localhost:8080/"
        },
        "id": "ledqzleYV3nj",
        "outputId": "939963af-5ee1-472e-91e3-0b528b151323"
      },
      "source": [
        "# Selección de datos con Pandas utilizando loc. (Más información: https://www.analyticsvidhya.com/blog/2020/02/loc-iloc-pandas/)\n",
        "print(dataset.loc[:5, ['experience']],'\\n') # Accediendo a los datos por medio de índices numéricos\n",
        "print(dataset.loc[dataset.salary < 56642], '\\n') # Accediento a los datos por condición\n",
        "print(dataset.loc[(dataset.experience == 2.0) & (dataset.salary == 43525)], '\\n') # Accediento a los datos por condición multiple\n",
        "print(dataset.loc[dataset.experience <= 3.0, ['salary']], '\\n') # Accediento a datos por condición y columnas seleccionadas\n",
        "\n",
        "dataset.loc[dataset.experience == 1.1, ['salary']] = [39300]\n",
        "print(dataset.loc[dataset.experience == 1.1])"
      ],
      "execution_count": 92,
      "outputs": [
        {
          "output_type": "stream",
          "text": [
            "   experience\n",
            "0         1.1\n",
            "1         1.3\n",
            "2         1.5\n",
            "3         2.0\n",
            "4         2.2\n",
            "5         2.9 \n",
            "\n",
            "    experience  salary\n",
            "0          1.1   39300\n",
            "1          1.3   46205\n",
            "2          1.5   37731\n",
            "3          2.0   43525\n",
            "4          2.2   39891\n",
            "7          3.2   54445\n",
            "11         4.0   55794 \n",
            "\n",
            "   experience  salary\n",
            "3         2.0   43525 \n",
            "\n",
            "[[39300]\n",
            " [46205]\n",
            " [37731]\n",
            " [43525]\n",
            " [39891]\n",
            " [56642]\n",
            " [60150]] \n",
            "\n",
            "   experience  salary\n",
            "0         1.1   39300\n"
          ],
          "name": "stdout"
        }
      ]
    },
    {
      "cell_type": "code",
      "metadata": {
        "colab": {
          "base_uri": "https://localhost:8080/"
        },
        "id": "B87m560lYjCk",
        "outputId": "3eb2b10b-ec60-46c0-c055-fab87fdf8e80"
      },
      "source": [
        "# Selección de datos con Pandas utilizando iloc. (Más información: https://www.analyticsvidhya.com/blog/2020/02/loc-iloc-pandas/)\n",
        "print(dataset.iloc[:5,:-1], '\\n') # Accediendo a los primeros 5 valores\n",
        "print(dataset.iloc[:5, 1], '\\n') # Accediendo a los primeros 5 valores de la columna de salarios\n",
        "print(dataset.iloc[:5, 1].values, '\\n') # obtener como lista los primeros 5 valores de la columna de salarios"
      ],
      "execution_count": 90,
      "outputs": [
        {
          "output_type": "stream",
          "text": [
            "   experience\n",
            "0         1.1\n",
            "1         1.3\n",
            "2         1.5\n",
            "3         2.0\n",
            "4         2.2 \n",
            "\n",
            "0    39300\n",
            "1    46205\n",
            "2    37731\n",
            "3    43525\n",
            "4    39891\n",
            "Name: salary, dtype: int64 \n",
            "\n",
            "[39300 46205 37731 43525 39891] \n",
            "\n"
          ],
          "name": "stdout"
        }
      ]
    },
    {
      "cell_type": "code",
      "metadata": {
        "id": "_u258yUhahhy"
      },
      "source": [
        "# Creación de variables de nuestro modelo lineal\n",
        "x = dataset.loc[:, ['experience']].values\n",
        "y = dataset.iloc[:, 1].values"
      ],
      "execution_count": 99,
      "outputs": []
    },
    {
      "cell_type": "markdown",
      "metadata": {
        "id": "2554G9XZd5vZ"
      },
      "source": [
        "###**Divisón de dataset en conjunto de entrenamiento y conjunto de prueba**\n",
        "- Para poder desarrollar machine learning utilizaremos la libería Sklearn. \n",
        "> - El **conjunto de entrenamiento** utiliza nuestro modelo a partir de las observaciones que ya sabemos.\n",
        "> - El **conjunto de prueba** es donde se evalua el rendimiento de nuestro modelo en nuevas observaciones.\n",
        "\n",
        "Se recomienda que nuestro modelo sea 80% entrenamiento 20% test."
      ]
    },
    {
      "cell_type": "code",
      "metadata": {
        "colab": {
          "base_uri": "https://localhost:8080/"
        },
        "id": "Z650287Ae7HQ",
        "outputId": "efebfcf2-622c-4337-9e85-1c50ad102e43"
      },
      "source": [
        "from sklearn.model_selection import train_test_split # Dividir dataset en conjuntos\n",
        "from sklearn.linear_model import LinearRegression  # Implementacion de modelo de regresión lineal\n",
        "\n",
        "# Creación de conjuntos de prueba y entrenamiento\n",
        "x_train, x_test, y_train, y_test = train_test_split(x, y, test_size = 0.2, random_state = 0)\n",
        "\n",
        "# Entrenamiento de modelo de regresion lineal con el conjunto de entrenamiento\n",
        "regressor = LinearRegression()\n",
        "regressor.fit(x_train, y_train) # Ajuste de valores a modelo lineal\n",
        "\n",
        "# Predicción de valores por conjunto de prueba\n",
        "y_pred = regressor.predict(x_test)\n",
        "print(y_pred)\n",
        "print(y_test)"
      ],
      "execution_count": 106,
      "outputs": [
        {
          "output_type": "stream",
          "text": [
            "[120058.71224314  88126.47661191  73454.90888945 118332.64545227\n",
            "  97619.84396173  71728.84209857  63098.50814418]\n",
            "[121872  91738  66029 122391 101302  67938  63218]\n"
          ],
          "name": "stdout"
        }
      ]
    },
    {
      "cell_type": "code",
      "metadata": {
        "colab": {
          "base_uri": "https://localhost:8080/",
          "height": 295
        },
        "id": "HJTer46vj0mw",
        "outputId": "9378d209-7ffc-4519-c521-60d19d18380a"
      },
      "source": [
        "# Visualización de los resultados del conjunto de entrenamiento\n",
        "plt.scatter(x_train, y_train, color='red')\n",
        "plt.plot(x_train, regressor.predict(x_train), color='blue')\n",
        "plt.title('Salario vs experiencia (Conjunto de entrenamiento)')\n",
        "plt.xlabel('Años de experiencia')\n",
        "plt.ylabel('Salario')\n",
        "\n",
        "plt.show()"
      ],
      "execution_count": 107,
      "outputs": [
        {
          "output_type": "display_data",
          "data": {
            "image/png": "[encoded data removed]",
            "text/plain": [
              "<Figure size 432x288 with 1 Axes>"
            ]
          },
          "metadata": {
            "tags": [],
            "needs_background": "light"
          }
        }
      ]
    },
    {
      "cell_type": "code",
      "metadata": {
        "colab": {
          "base_uri": "https://localhost:8080/",
          "height": 295
        },
        "id": "Ae_LL7Iwk8Kr",
        "outputId": "b018d1df-2a8b-4c9f-b1d3-84fe41d1f1b4"
      },
      "source": [
        "plt.scatter(x_test, y_test, color='red')\n",
        "plt.plot(x_train, regressor.predict(x_train), color='blue')\n",
        "plt.title('Salario vs experiencia (Conjunto de prueba)')\n",
        "plt.xlabel('Años de experiencia')\n",
        "plt.ylabel('Salario')\n",
        "\n",
        "plt.show()"
      ],
      "execution_count": 108,
      "outputs": [
        {
          "output_type": "display_data",
          "data": {
            "image/png": "[encoded data removed]",
            "text/plain": [
              "<Figure size 432x288 with 1 Axes>"
            ]
          },
          "metadata": {
            "tags": [],
            "needs_background": "light"
          }
        }
      ]
    },
    {
      "cell_type": "code",
      "metadata": {
        "colab": {
          "base_uri": "https://localhost:8080/"
        },
        "id": "q4-Rfwh-l7V6",
        "outputId": "0aba9de8-1762-4bca-af19-4f63e32b1645"
      },
      "source": [
        "# Constantes del modelo de regresión lineal.\n",
        "array = numpy.array([[0], [5], [15]])\n",
        "print(regressor.predict(array))"
      ],
      "execution_count": 110,
      "outputs": [
        {
          "output_type": "stream",
          "text": [
            "[ 29440.20572207  72591.87549401 158895.21503789]\n"
          ],
          "name": "stdout"
        }
      ]
    }
  ]
}