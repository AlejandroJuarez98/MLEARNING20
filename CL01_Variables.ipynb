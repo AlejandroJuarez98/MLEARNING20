{
  "nbformat": 4,
  "nbformat_minor": 0,
  "metadata": {
    "colab": {
      "name": "CL01-Variables.ipynb",
      "provenance": [],
      "collapsed_sections": [],
      "authorship_tag": "ABX9TyOR37/81Pm5OA22qytrBuhn",
      "include_colab_link": true
    },
    "kernelspec": {
      "name": "python3",
      "display_name": "Python 3"
    }
  },
  "cells": [
    {
      "cell_type": "markdown",
      "metadata": {
        "id": "view-in-github",
        "colab_type": "text"
      },
      "source": [
        "<a href=\"https://colab.research.google.com/github/AlejandroJuarez98/MLEARNING20/blob/master/CL01_Variables.ipynb\" target=\"_parent\"><img src=\"https://colab.research.google.com/assets/colab-badge.svg\" alt=\"Open In Colab\"/></a>"
      ]
    },
    {
      "cell_type": "markdown",
      "metadata": {
        "id": "qvmVGNzPOl2e"
      },
      "source": [
        "#**Variables y sus tipos.**\n",
        "\n"
      ]
    },
    {
      "cell_type": "code",
      "metadata": {
        "colab": {
          "base_uri": "https://localhost:8080/"
        },
        "id": "2xlmZIXvPDLv",
        "outputId": "e9965324-d89d-4744-8a41-09eda4358b5a"
      },
      "source": [
        "# Variables y sus tipos #\n",
        "\n",
        "\"\"\"\n",
        "  Como nombrar variables:\n",
        "      variable\n",
        "      _variable\n",
        "      variable_\n",
        "      ... etc\n",
        "\"\"\"\n",
        "\n",
        "variable = \"Hola\"\n",
        "print(variable)"
      ],
      "execution_count": null,
      "outputs": [
        {
          "output_type": "stream",
          "text": [
            "Hola\n"
          ],
          "name": "stdout"
        }
      ]
    },
    {
      "cell_type": "code",
      "metadata": {
        "colab": {
          "base_uri": "https://localhost:8080/"
        },
        "id": "jIuNyzKAP8gm",
        "outputId": "12868e1d-bdb7-423b-a1a4-c29d49ada4de"
      },
      "source": [
        "# Variables de tipo constante #\n",
        "pi = 3.1416\n",
        "PI = 3.1416\n",
        "\n",
        "# Variable #\n",
        "numero = 4\n",
        "cadena = \"Hola mundo\"\n",
        "bandera = True\n",
        "\n",
        "print(numero)\n",
        "print(cadena)\n",
        "print(bandera)"
      ],
      "execution_count": null,
      "outputs": [
        {
          "output_type": "stream",
          "text": [
            "4\n",
            "Hola mundo\n",
            "True\n"
          ],
          "name": "stdout"
        }
      ]
    },
    {
      "cell_type": "code",
      "metadata": {
        "colab": {
          "base_uri": "https://localhost:8080/"
        },
        "id": "iKbrqKJqQIna",
        "outputId": "8b325eb6-811c-498e-98c5-a0eba93f02fa"
      },
      "source": [
        "# Variables numéricas\n",
        "print(type(numero))\n",
        "# Variables cadenas\n",
        "print(type(cadena))\n",
        "# Variables banderas\n",
        "print(type(bandera))"
      ],
      "execution_count": null,
      "outputs": [
        {
          "output_type": "stream",
          "text": [
            "<class 'int'>\n",
            "<class 'str'>\n",
            "<class 'bool'>\n"
          ],
          "name": "stdout"
        }
      ]
    },
    {
      "cell_type": "code",
      "metadata": {
        "colab": {
          "base_uri": "https://localhost:8080/"
        },
        "id": "dEkeRejqSD07",
        "outputId": "225edc07-b249-47b5-f29f-3b020300556f"
      },
      "source": [
        "# Operaciones con variables de tipo cadena #\n",
        "print(cadena)\n",
        "# Imprimir textoo en mayúscula #\n",
        "print(cadena.upper())\n",
        "# Imprimir texto en minúscula #\n",
        "print(cadena.lower())\n",
        "# División de cadena #\n",
        "palabras = cadena.split(\" \")\n",
        "hola = palabras[0]\n",
        "mundo = palabras[1]\n",
        "print(palabras)\n",
        "\n",
        "print(hola)\n",
        "print(mundo)"
      ],
      "execution_count": null,
      "outputs": [
        {
          "output_type": "stream",
          "text": [
            "Hola mundo\n",
            "HOLA MUNDO\n",
            "hola mundo\n",
            "['Hola', 'mundo']\n",
            "Hola\n",
            "mundo\n"
          ],
          "name": "stdout"
        }
      ]
    },
    {
      "cell_type": "code",
      "metadata": {
        "colab": {
          "base_uri": "https://localhost:8080/"
        },
        "id": "XjlSFwwOTZ4r",
        "outputId": "bcc7ec67-0b54-4a16-d413-db3f2cf1e1a8"
      },
      "source": [
        "# Conversión de cadena a caracter #\n",
        "numero = '1'\n",
        "print(numero)\n",
        "print(type(numero))\n",
        "\n",
        "numero = int(numero)\n",
        "print(numero)\n",
        "print(type(numero))\n",
        "\n",
        "# Conversión de número a cadena #\n",
        "numero = str(numero)\n",
        "print(numero)\n",
        "print(type(numero))\n",
        "\n",
        "numero = float(numero)\n",
        "print(numero)\n",
        "print(type(numero))\n",
        "\n",
        "# int, str, float #"
      ],
      "execution_count": null,
      "outputs": [
        {
          "output_type": "stream",
          "text": [
            "1\n",
            "<class 'str'>\n",
            "1\n",
            "<class 'int'>\n",
            "1\n",
            "<class 'str'>\n",
            "1.0\n",
            "<class 'float'>\n"
          ],
          "name": "stdout"
        }
      ]
    }
  ]
}