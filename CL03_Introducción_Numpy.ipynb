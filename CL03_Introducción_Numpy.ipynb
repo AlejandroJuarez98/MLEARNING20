{
  "nbformat": 4,
  "nbformat_minor": 0,
  "metadata": {
    "colab": {
      "name": "CL03-Introducción-Numpy.ipynb",
      "provenance": [],
      "authorship_tag": "ABX9TyNFXQw1cag98QQL/TqCPVXe",
      "include_colab_link": true
    },
    "kernelspec": {
      "name": "python3",
      "display_name": "Python 3"
    }
  },
  "cells": [
    {
      "cell_type": "markdown",
      "metadata": {
        "id": "view-in-github",
        "colab_type": "text"
      },
      "source": [
        "<a href=\"https://colab.research.google.com/github/AlejandroJuarez98/MLEARNING20/blob/master/CL03_Introducci%C3%B3n_Numpy.ipynb\" target=\"_parent\"><img src=\"https://colab.research.google.com/assets/colab-badge.svg\" alt=\"Open In Colab\"/></a>"
      ]
    },
    {
      "cell_type": "markdown",
      "metadata": {
        "id": "pRrxQ5PUuVF3"
      },
      "source": [
        "##**Manejo de archivos**"
      ]
    },
    {
      "cell_type": "code",
      "metadata": {
        "colab": {
          "base_uri": "https://localhost:8080/"
        },
        "id": "1dZyl3FZuagi",
        "outputId": "3e8c81a3-b876-4743-aba7-9f20833005f5"
      },
      "source": [
        "# Abrir archivos (Lectura)\n",
        "file = open('/content/test.txt', 'r')\n",
        "text = file.read()\n",
        "print(text)\n",
        "\n",
        "file.close()"
      ],
      "execution_count": 15,
      "outputs": [
        {
          "output_type": "stream",
          "text": [
            "¡Hola mundo!\n"
          ],
          "name": "stdout"
        }
      ]
    },
    {
      "cell_type": "code",
      "metadata": {
        "id": "3IiNbjJKvDXM"
      },
      "source": [
        "# Escribir un archivo\n",
        "file = open('/content/test.txt', 'w')\n",
        "file.write(\"¡Hola mundo!\")\n",
        "file.close()"
      ],
      "execution_count": 14,
      "outputs": []
    },
    {
      "cell_type": "code",
      "metadata": {
        "colab": {
          "base_uri": "https://localhost:8080/"
        },
        "id": "Cxh3yoDrvbXU",
        "outputId": "e36e0b93-e6f4-4f2f-953a-fc9c1b7cd094"
      },
      "source": [
        "# Para controlar el estado del archivo automaticamente, ocupamos:\n",
        "\n",
        "with open('/content/test.txt', 'w') as fwrite:\n",
        "  fwrite.write(\"Hola, este es un mensaje\")\n",
        "  \n",
        "with open('/content/test.txt', 'r') as rwrite:\n",
        "  print(rwrite.read())"
      ],
      "execution_count": 13,
      "outputs": [
        {
          "output_type": "stream",
          "text": [
            "Hola, este es un mensaje\n"
          ],
          "name": "stdout"
        }
      ]
    },
    {
      "cell_type": "markdown",
      "metadata": {
        "id": "dIeAXJK0wp8Y"
      },
      "source": [
        "##**Uso de librerías**\n",
        ">1. **Numpy**: Es una librería utilizada en python, la cual agrega soporte para vectores, matrices y funciones matemáticas.\n",
        ">2. **Pandas**: Herramienta de tabulación para datos.\n",
        ">3. **Mathplotlib**: Herramienta de gráficos.\n"
      ]
    },
    {
      "cell_type": "code",
      "metadata": {
        "colab": {
          "base_uri": "https://localhost:8080/"
        },
        "id": "Htd6VOPuxEXH",
        "outputId": "83c23745-ad4d-445f-c367-10815e964a3b"
      },
      "source": [
        "#Importando librerías\n",
        "import numpy\n",
        "import pandas\n",
        "import matplotlib\n",
        "#Modo de importación\n",
        "from numpy import random\n",
        "\n",
        "print(numpy.__version__)\n",
        "print(pandas.__version__)\n",
        "print(matplotlib.__version__)"
      ],
      "execution_count": 21,
      "outputs": [
        {
          "output_type": "stream",
          "text": [
            "1.18.5\n",
            "1.1.4\n",
            "3.2.2\n"
          ],
          "name": "stdout"
        }
      ]
    },
    {
      "cell_type": "code",
      "metadata": {
        "colab": {
          "base_uri": "https://localhost:8080/"
        },
        "id": "-urjkrMKzItH",
        "outputId": "af7c5ed0-7544-40ef-f987-a248e6d7df11"
      },
      "source": [
        "# Arreglos con numpy\n",
        "import numpy\n",
        "\n",
        "array = numpy.array([1,2,3,4,5])\n",
        "print(array, ' Tipo de dato %s' % type(array))"
      ],
      "execution_count": 23,
      "outputs": [
        {
          "output_type": "stream",
          "text": [
            "[1 2 3 4 5] Tipo de dato <class 'numpy.ndarray'>\n"
          ],
          "name": "stdout"
        }
      ]
    },
    {
      "cell_type": "code",
      "metadata": {
        "colab": {
          "base_uri": "https://localhost:8080/"
        },
        "id": "BMlJ9fqZz8S5",
        "outputId": "485f9b4d-33e9-4e24-c1c3-388ea2b9dc65"
      },
      "source": [
        "larray = numpy.array([1,2,3,4,5])\n",
        "print(larray, ' Tipo de dato %s' % type(larray))\n",
        "\n",
        "tarray = numpy.array((0,1,2,3,4,5))\n",
        "print(tarray, ' Tipo de dato %s' % type(tarray))"
      ],
      "execution_count": 26,
      "outputs": [
        {
          "output_type": "stream",
          "text": [
            "[1 2 3 4 5]  Tipo de dato <class 'numpy.ndarray'>\n",
            "[0 1 2 3 4 5]  Tipo de dato <class 'numpy.ndarray'>\n"
          ],
          "name": "stdout"
        }
      ]
    },
    {
      "cell_type": "code",
      "metadata": {
        "colab": {
          "base_uri": "https://localhost:8080/"
        },
        "id": "tbDB_1Px0sDW",
        "outputId": "912c7955-a6e3-4906-e158-68a90b8ea298"
      },
      "source": [
        "# Arreglo de 0 dimensiones\n",
        "array_0D = numpy.array(10)\n",
        "print(array_0D.ndim)\n",
        "# Arreglo de 1 dimension\n",
        "array_1D = numpy.array([1,2,3,4,5])\n",
        "print(array_1D.ndim)\n",
        "# Arreglo de 2 dimensiones\n",
        "array_2D = numpy.array([[1,2,3,4,5], [6,7,8,9,10]])\n",
        "print(array_2D.ndim)\n",
        "# Arreglo de 3 dimensiones\n",
        "array_3D = numpy.array([[[1,2,3,4,5], [6,7,8,9,10]], [[1,2,3,4,5], [6,7,8,9,10]]])\n",
        "print(array_3D.ndim)"
      ],
      "execution_count": 31,
      "outputs": [
        {
          "output_type": "stream",
          "text": [
            "0\n",
            "1\n",
            "2\n",
            "3\n"
          ],
          "name": "stdout"
        }
      ]
    },
    {
      "cell_type": "code",
      "metadata": {
        "colab": {
          "base_uri": "https://localhost:8080/",
          "height": 375
        },
        "id": "ciwvcUMe2Ui5",
        "outputId": "85b0c127-b4d0-4cfd-b88e-98a9dafa0eb6"
      },
      "source": [
        "from google.colab.patches import cv2_imshow\n",
        "import cv2\n",
        "\n",
        "img = cv2.imread('/content/squere.webp')\n",
        "cv2_imshow(img)\n",
        "\n",
        "print(type(img))\n",
        "print('Forma de imagen: ', img.shape)\n",
        "print('# Dimensiones: ', img.ndim)\n",
        "\n",
        "b = img[:,:,0]\n",
        "g = img[:,:,1]\n",
        "r = img[:,:,2]\n",
        "\n",
        "print(b.ndim, b.shape)\n",
        "print(g.ndim, g.shape)\n",
        "print(r.ndim, r.shape)"
      ],
      "execution_count": 48,
      "outputs": [
        {
          "output_type": "display_data",
          "data": {
            "image/png": "[encoded data removed]",
            "text/plain": [
              "<PIL.Image.Image image mode=RGB size=256x256 at 0x7F4C6B57BA20>"
            ]
          },
          "metadata": {
            "tags": []
          }
        },
        {
          "output_type": "stream",
          "text": [
            "<class 'numpy.ndarray'>\n",
            "Forma de imagen:  (256, 256, 3)\n",
            "# Dimensiones:  3\n",
            "2 (256, 256)\n",
            "2 (256, 256)\n",
            "2 (256, 256)\n"
          ],
          "name": "stdout"
        }
      ]
    },
    {
      "cell_type": "code",
      "metadata": {
        "colab": {
          "base_uri": "https://localhost:8080/"
        },
        "id": "4SIzoHkD8sOq",
        "outputId": "a0c780b9-1c8d-49e8-88ed-5029f3228e4a"
      },
      "source": [
        "# Matrices\n",
        "# Matriz con unos\n",
        "array_ones = numpy.ones((10,10), dtype=numpy.int16)\n",
        "print(array_ones)\n",
        "print('\\nforma del array ', array_ones.shape, '\\n')\n",
        "# Matriz con ceros\n",
        "array_zeros = numpy.zeros((10,10), dtype=numpy.int16)\n",
        "print(array_zeros)\n",
        "print('\\nforma del array ', array_zeros.shape, '\\n')\n",
        "# Matriz identidad\n",
        "array_id = numpy.diag(numpy.ones(10, dtype=numpy.int16))\n",
        "print(array_id)"
      ],
      "execution_count": 55,
      "outputs": [
        {
          "output_type": "stream",
          "text": [
            "[[1 1 1 1 1 1 1 1 1 1]\n",
            " [1 1 1 1 1 1 1 1 1 1]\n",
            " [1 1 1 1 1 1 1 1 1 1]\n",
            " [1 1 1 1 1 1 1 1 1 1]\n",
            " [1 1 1 1 1 1 1 1 1 1]\n",
            " [1 1 1 1 1 1 1 1 1 1]\n",
            " [1 1 1 1 1 1 1 1 1 1]\n",
            " [1 1 1 1 1 1 1 1 1 1]\n",
            " [1 1 1 1 1 1 1 1 1 1]\n",
            " [1 1 1 1 1 1 1 1 1 1]]\n",
            "\n",
            "forma del array  (10, 10) \n",
            "\n",
            "[[0 0 0 0 0 0 0 0 0 0]\n",
            " [0 0 0 0 0 0 0 0 0 0]\n",
            " [0 0 0 0 0 0 0 0 0 0]\n",
            " [0 0 0 0 0 0 0 0 0 0]\n",
            " [0 0 0 0 0 0 0 0 0 0]\n",
            " [0 0 0 0 0 0 0 0 0 0]\n",
            " [0 0 0 0 0 0 0 0 0 0]\n",
            " [0 0 0 0 0 0 0 0 0 0]\n",
            " [0 0 0 0 0 0 0 0 0 0]\n",
            " [0 0 0 0 0 0 0 0 0 0]]\n",
            "\n",
            "forma del array  (10, 10) \n",
            "\n",
            "[[1 0 0 0 0 0 0 0 0 0]\n",
            " [0 1 0 0 0 0 0 0 0 0]\n",
            " [0 0 1 0 0 0 0 0 0 0]\n",
            " [0 0 0 1 0 0 0 0 0 0]\n",
            " [0 0 0 0 1 0 0 0 0 0]\n",
            " [0 0 0 0 0 1 0 0 0 0]\n",
            " [0 0 0 0 0 0 1 0 0 0]\n",
            " [0 0 0 0 0 0 0 1 0 0]\n",
            " [0 0 0 0 0 0 0 0 1 0]\n",
            " [0 0 0 0 0 0 0 0 0 1]]\n"
          ],
          "name": "stdout"
        }
      ]
    },
    {
      "cell_type": "code",
      "metadata": {
        "colab": {
          "base_uri": "https://localhost:8080/"
        },
        "id": "uaojOAHi_x59",
        "outputId": "9dd44684-4d26-4586-c8b2-25c4938925b5"
      },
      "source": [
        "# Funciones matematicas\n",
        "\n",
        "pi = numpy.pi\n",
        "print(pi)\n",
        "\n",
        "print('Funcion seno', numpy.sin(pi/2))\n",
        "print('Funcion coseno', numpy.cos(pi))\n",
        "\n",
        "grados = 180\n",
        "radianes = numpy.deg2rad(grados)\n",
        "print('Coseno (pi): ', numpy.cos(radianes))\n",
        "\n",
        "rad = pi/2\n",
        "grad = numpy.rad2deg(rad)\n",
        "print('Grados: ', grad)"
      ],
      "execution_count": 74,
      "outputs": [
        {
          "output_type": "stream",
          "text": [
            "3.141592653589793\n",
            "Funcion seno 1.0\n",
            "Funcion coseno -1.0\n",
            "Coseno (pi):  -1.0\n",
            "Grados:  90.0\n"
          ],
          "name": "stdout"
        }
      ]
    }
  ]
}