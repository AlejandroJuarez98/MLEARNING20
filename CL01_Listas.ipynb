{
  "nbformat": 4,
  "nbformat_minor": 0,
  "metadata": {
    "colab": {
      "name": "CL01-Listas.ipynb",
      "provenance": [],
      "collapsed_sections": [],
      "authorship_tag": "ABX9TyOX0Dq1Rt6TGHxVM+GLMBME",
      "include_colab_link": true
    },
    "kernelspec": {
      "name": "python3",
      "display_name": "Python 3"
    }
  },
  "cells": [
    {
      "cell_type": "markdown",
      "metadata": {
        "id": "view-in-github",
        "colab_type": "text"
      },
      "source": [
        "<a href=\"https://colab.research.google.com/github/AlejandroJuarez98/MLEARNING20/blob/master/CL01_Listas.ipynb\" target=\"_parent\"><img src=\"https://colab.research.google.com/assets/colab-badge.svg\" alt=\"Open In Colab\"/></a>"
      ]
    },
    {
      "cell_type": "markdown",
      "metadata": {
        "id": "fgTGzcHNZub3"
      },
      "source": [
        "##**Listas y sus tipos de datos.**##\n",
        ">**Existen 3 tipos:**\n",
        "  >>1. **Listas.**\n",
        "    >>> Es una colección de tipos de datos en Python, esta puede contener datos repetidos y su definición es mediante corchetes. \n",
        "  >>2. **Tuplas**\n",
        "    >>> Es una colección de tipos de datos al igual que las listas cuyos valores no pueden cambiar. Se definen utilizando paréntesis.\n",
        "  >>3. **Diccionarios**\n",
        "    >>> Un diccionario es una coleccion de datos que contiene una llave y valor. Los diccionarios pueden contener distintos tipos de datos y se definien usando llaves { }.\n",
        "\n",
        "\n"
      ]
    },
    {
      "cell_type": "code",
      "metadata": {
        "colab": {
          "base_uri": "https://localhost:8080/"
        },
        "id": "EJCDHV2ab0De",
        "outputId": "d5dfd84c-07bf-40fc-ad38-5baa7fdc4130"
      },
      "source": [
        "# Listas, tuplas y diccionarios #\n",
        "# Listas #\n",
        "print(\"****** Listas: ******\")\n",
        "lista = [1,2,3,4,5,6,7,8,9,10]\n",
        "print(lista)\n",
        "print(type(lista))\n",
        "# Imprimir lista seccionada #\n",
        "print(lista[2:8])\n",
        "print(lista[-5:-3])\n",
        "print(lista[3:])\n",
        "# Insertando nuevo valor a la lista #\n",
        "lista.append(11)\n",
        "print(lista)\n",
        "\n",
        "lista_2 = [0,2,3,1]\n",
        "lista_3 = [0,2,9,2]\n",
        "lista_t = [lista_2, lista_3]\n",
        "\n",
        "print(lista_t)\n",
        "print(type(lista_t))"
      ],
      "execution_count": 19,
      "outputs": [
        {
          "output_type": "stream",
          "text": [
            "****** Listas: ******\n",
            "[1, 2, 3, 4, 5, 6, 7, 8, 9, 10]\n",
            "<class 'list'>\n",
            "[3, 4, 5, 6, 7, 8]\n",
            "[6, 7]\n",
            "[4, 5, 6, 7, 8, 9, 10]\n",
            "[1, 2, 3, 4, 5, 6, 7, 8, 9, 10, 11]\n",
            "[[0, 2, 3, 1], [0, 2, 9, 2]]\n",
            "<class 'list'>\n",
            "****** Tuplas: ******\n",
            "(1, 2, 3, 4, 5, 6, 7, 8, 9, 10)\n",
            "<class 'tuple'>\n",
            "1\n",
            "10\n",
            "(2, 3, 4)\n",
            "(6, 7, 8)\n",
            "(1, 2, 3, 4)\n",
            "(1, 2, 3, 4, 5, 6, 7, 8, 9, 10, 11)\n",
            "('manzana', 'melon', 'pera')\n",
            "('manzana', 'melon', 'pera', 'uva')\n"
          ],
          "name": "stdout"
        }
      ]
    },
    {
      "cell_type": "code",
      "metadata": {
        "id": "XSpscoWElUeO"
      },
      "source": [
        "# Tuplas #\n",
        "print(\"****** Tuplas: ******\")\n",
        "tuplas = (1,2,3,4,5,6,7,8,9,10)\n",
        "\n",
        "print(tuplas)\n",
        "print(type(tuplas))\n",
        "print(tuplas[0])\n",
        "print(tuplas[-1])\n",
        "print(tuplas[1:4])\n",
        "print(tuplas[-5:-2])\n",
        "print(tuplas[:4])\n",
        "\n",
        "# Añadir nuevo item de forma manual a la tupla #\n",
        "list_aux = list(tuplas)\n",
        "list_aux.append(11)\n",
        "tuplas = tuple(list_aux) # Transformando lista a tupla\n",
        "print(tuplas)\n",
        "\n",
        "# Tuplas de tuplas #\n",
        "frutas = (\"manzana\", \"melon\", \"pera\")\n",
        "print(frutas)\n",
        "\n",
        "flist = list(frutas) # Transformando tupla a lista\n",
        "flist.append(\"uva\")\n",
        "\n",
        "frutas = tuple(flist)\n",
        "print(frutas)"
      ],
      "execution_count": null,
      "outputs": []
    },
    {
      "cell_type": "code",
      "metadata": {
        "colab": {
          "base_uri": "https://localhost:8080/"
        },
        "id": "Wr76nx4klVK7",
        "outputId": "8536049e-d3f3-4c06-f1bd-007a6d10326d"
      },
      "source": [
        "# Diccionario #\n",
        "print(\"****** Diccionario ******\")\n",
        "\n",
        "diccionario = {\n",
        "    'key_1': 'valor1',\n",
        "    'key_2': 'valor2',\n",
        "    'key_3': 'valor3'\n",
        "}\n",
        "\n",
        "print(diccionario, type(diccionario))\n",
        "\n",
        "dictn = {\n",
        "    'objeto': 'pelota',\n",
        "    'color': 'azul',\n",
        "    'diametro': 20\n",
        "}\n",
        "\n",
        "print(dictn)\n",
        "print(dictn['objeto'])\n",
        "\n",
        "dictn['lista'] = lista\n",
        "dictn['tupla'] = tupla\n",
        "\n",
        "print(dictn)"
      ],
      "execution_count": 26,
      "outputs": [
        {
          "output_type": "stream",
          "text": [
            "****** Diccionario ******\n",
            "{'key_1': 'valor1', 'key_2': 'valor2', 'key_3': 'valor3'} <class 'dict'>\n",
            "{'objeto': 'pelota', 'color': 'azul', 'diametro': 20}\n",
            "pelota\n",
            "{'objeto': 'pelota', 'color': 'azul', 'diametro': 20, 'lista': [1, 2, 3, 4, 5, 6, 7, 8, 9, 10, 11], 'tupla': (1, 2, 3, 4, 5, 6, 7, 8, 9, 10, 11)}\n"
          ],
          "name": "stdout"
        }
      ]
    }
  ]
}